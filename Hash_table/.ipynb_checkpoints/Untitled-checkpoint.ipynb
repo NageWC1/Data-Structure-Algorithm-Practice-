{
 "cells": [
  {
   "cell_type": "code",
   "execution_count": 96,
   "id": "1fb217bb",
   "metadata": {},
   "outputs": [],
   "source": [
    "#  first we will develop the hash function \n",
    "def get_hash(key):\n",
    "    h = 0\n",
    "    for char in key: # here we taking the each character one by one from key\n",
    "        h += ord(char) #then we getting the ascii valur of the charater by using ord function adn making a total of it for \n",
    "    # get the total ascii values to return the index \n",
    "    return h % 10 # herer we returning the index value\n"
   ]
  },
  {
   "cell_type": "code",
   "execution_count": 97,
   "id": "208bdb56",
   "metadata": {},
   "outputs": [
    {
     "data": {
      "text/plain": [
       "97"
      ]
     },
     "execution_count": 97,
     "metadata": {},
     "output_type": "execute_result"
    }
   ],
   "source": [
    "# for example the ascii value of a is\n",
    "ord('a')"
   ]
  },
  {
   "cell_type": "code",
   "execution_count": 99,
   "id": "4d5a3d1b",
   "metadata": {},
   "outputs": [
    {
     "data": {
      "text/plain": [
       "9"
      ]
     },
     "execution_count": 99,
     "metadata": {},
     "output_type": "execute_result"
    }
   ],
   "source": [
    "# check the get_hash for the \n",
    "get_hash('march 17')"
   ]
  },
  {
   "cell_type": "code",
   "execution_count": 118,
   "id": "34bb150a",
   "metadata": {},
   "outputs": [],
   "source": [
    "# implement the hash table \n",
    "class HashTable:\n",
    "    def __init__(self):\n",
    "        self.MAX = 10\n",
    "        # here i am initializing the array with array instead of the None, because of the \n",
    "        # HashTable collision\n",
    "        self.arr = [[] for i in range(self.MAX)] # declare and initialize the array \n",
    "    \n",
    "    def get_hash(self,key):\n",
    "        h = 0\n",
    "        for char in key:\n",
    "            h += ord(char)\n",
    "        return h % self.MAX\n",
    "    \n",
    "#     def add(self, key, val):\n",
    "#         h = self.get_hash(key) # here we taking the hash function for getting the index where the value going to store\n",
    "#         self.arr[h] = val # store the value using the hash value which means the index to the array\n",
    "   \n",
    "#     we can use thise instead of  the above function\n",
    "    def __setitem__(self, key, val):\n",
    "        h = self.get_hash(key) # here we taking the hash function for getting the index where the value going to store\n",
    "        # self.arr[h] = val # store the value using the hash value which means the index to the array\n",
    "        # here isntead of replacing the value we can go through the list to insert the value\n",
    "        # because we may think to update the same key's value - handle this situation first \n",
    "        \n",
    "#        eneumerate is the function that use to iterate through the array \n",
    "        found = False \n",
    "        for idx, element in enumerate(self.arr[h]):\n",
    "            if len(element) == 2 and element[0] == key:\n",
    "                self.arr[h][idx] = (key, val)\n",
    "                found = True \n",
    "                break\n",
    "                \n",
    "        # if the key does not exist in the list \n",
    "        if not found:\n",
    "            self.arr[h].append((key,val))\n",
    "            for element in self.arr[h]:\n",
    "                if element[0] == key:\n",
    "                    return element[1]\n",
    "    \n",
    "#     def get(self,key):\n",
    "#         h = self.get_hash(key)\n",
    "#         val = self.arr[h]\n",
    "#         return val\n",
    "    \n",
    "    def __getitem__(self,key):\n",
    "        h = self.get_hash(key)\n",
    "        for element in self.arr[h]:\n",
    "            if element[0] == key:\n",
    "                return element[1]\n",
    "    \n",
    "    def __delitem__(self, key):\n",
    "        h = self.get_hash(key)\n",
    "        found = False\n",
    "        for idx, element in enumerate(self.arr[h]):\n",
    "            if element[0] == key:\n",
    "                del self.arr[h][idx]\n"
   ]
  },
  {
   "cell_type": "code",
   "execution_count": 119,
   "id": "c15d3643",
   "metadata": {},
   "outputs": [
    {
     "data": {
      "text/plain": [
       "9"
      ]
     },
     "execution_count": 119,
     "metadata": {},
     "output_type": "execute_result"
    }
   ],
   "source": [
    "# to check these will create a hash table like below\n",
    "t = HashTable()\n",
    "t.get_hash('march 6')"
   ]
  },
  {
   "cell_type": "code",
   "execution_count": 120,
   "id": "11a624fb",
   "metadata": {},
   "outputs": [],
   "source": [
    "# adding the value to the hash table \n",
    "# t.add('march 6', 130)\n",
    "t[\"march 6\"] = 130 # instead passing the 2 argument in function we can use this by developing the python defaut function\n",
    "t[\"march 17\"] = 500"
   ]
  },
  {
   "cell_type": "code",
   "execution_count": 121,
   "id": "cfbdd60d",
   "metadata": {},
   "outputs": [
    {
     "data": {
      "text/plain": [
       "[[], [], [], [], [], [], [], [], [], [('march 6', 130), ('march 17', 500)]]"
      ]
     },
     "execution_count": 121,
     "metadata": {},
     "output_type": "execute_result"
    }
   ],
   "source": [
    "t.arr"
   ]
  },
  {
   "cell_type": "code",
   "execution_count": 122,
   "id": "b622398c",
   "metadata": {},
   "outputs": [
    {
     "data": {
      "text/plain": [
       "500"
      ]
     },
     "execution_count": 122,
     "metadata": {},
     "output_type": "execute_result"
    }
   ],
   "source": [
    "# get the value from the tabel \n",
    "# t.get('march 6')\n",
    "t['march 17']"
   ]
  },
  {
   "cell_type": "code",
   "execution_count": 123,
   "id": "5517fdc3",
   "metadata": {},
   "outputs": [],
   "source": [
    "del t['march 6']"
   ]
  },
  {
   "cell_type": "code",
   "execution_count": 124,
   "id": "ef7e2b80",
   "metadata": {},
   "outputs": [
    {
     "data": {
      "text/plain": [
       "[[], [], [], [], [], [], [], [], [], [('march 17', 500)]]"
      ]
     },
     "execution_count": 124,
     "metadata": {},
     "output_type": "execute_result"
    }
   ],
   "source": [
    "t.arr"
   ]
  },
  {
   "cell_type": "markdown",
   "id": "3a94a020",
   "metadata": {},
   "source": [
    "### Collision Problem in hash table\n",
    "\n",
    "So here we discussing a problem of collision in the hash table, that mean where these is the key that having same<br> \n",
    "hash value in our case the same index the second key value will replace the first key value \n",
    "<br>\n",
    "example<br>\n",
    "t['march 6'] and t['march 17'] will generate hash value 9 (index 9), <br>\n",
    "t['march 6'] = 123<br>\n",
    "t['march 17'] = 234<br>\n",
    "<br><br>\n",
    "so here the march will be replaced by the 234 becasue the march 17 also have hash value 9\n",
    "<br>\n",
    "this is called hash table collision<br>\n",
    "this can solve by chaining and linear probing "
   ]
  },
  {
   "cell_type": "code",
   "execution_count": null,
   "id": "23012977",
   "metadata": {},
   "outputs": [],
   "source": []
  },
  {
   "cell_type": "code",
   "execution_count": null,
   "id": "dc252544",
   "metadata": {},
   "outputs": [],
   "source": []
  },
  {
   "cell_type": "code",
   "execution_count": null,
   "id": "b0f10100",
   "metadata": {},
   "outputs": [],
   "source": []
  },
  {
   "cell_type": "code",
   "execution_count": null,
   "id": "afaccd28",
   "metadata": {},
   "outputs": [],
   "source": []
  },
  {
   "cell_type": "code",
   "execution_count": null,
   "id": "0ae769f1",
   "metadata": {},
   "outputs": [],
   "source": []
  }
 ],
 "metadata": {
  "kernelspec": {
   "display_name": "Python 3 (ipykernel)",
   "language": "python",
   "name": "python3"
  },
  "language_info": {
   "codemirror_mode": {
    "name": "ipython",
    "version": 3
   },
   "file_extension": ".py",
   "mimetype": "text/x-python",
   "name": "python",
   "nbconvert_exporter": "python",
   "pygments_lexer": "ipython3",
   "version": "3.8.11"
  }
 },
 "nbformat": 4,
 "nbformat_minor": 5
}
