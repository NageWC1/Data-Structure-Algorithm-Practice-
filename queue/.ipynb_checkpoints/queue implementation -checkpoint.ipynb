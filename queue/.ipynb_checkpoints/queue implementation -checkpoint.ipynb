{
 "cells": [
  {
   "cell_type": "code",
   "execution_count": 2,
   "id": "1abc1226",
   "metadata": {},
   "outputs": [],
   "source": [
    "wmt_stock_proce_queue = []"
   ]
  },
  {
   "cell_type": "code",
   "execution_count": 3,
   "id": "19fb1da0",
   "metadata": {},
   "outputs": [],
   "source": [
    "wmt_stock_proce_queue.insert(0,130)\n",
    "wmt_stock_proce_queue.insert(0,120)\n",
    "wmt_stock_proce_queue.insert(0,140)\n",
    "wmt_stock_proce_queue.insert(0,150)"
   ]
  },
  {
   "cell_type": "code",
   "execution_count": 4,
   "id": "a0beb179",
   "metadata": {},
   "outputs": [
    {
     "data": {
      "text/plain": [
       "130"
      ]
     },
     "execution_count": 4,
     "metadata": {},
     "output_type": "execute_result"
    }
   ],
   "source": [
    "wmt_stock_proce_queue.pop()"
   ]
  },
  {
   "cell_type": "code",
   "execution_count": 5,
   "id": "d7d4c069",
   "metadata": {},
   "outputs": [],
   "source": [
    "# the normal list in the python will be work finely for the queue but when the allocated space finished the\n",
    "# problem will be after excessive operation afterwards "
   ]
  },
  {
   "cell_type": "code",
   "execution_count": 6,
   "id": "7a6f7bfe",
   "metadata": {},
   "outputs": [],
   "source": [
    "from collections import deque\n",
    "q = deque()"
   ]
  },
  {
   "cell_type": "code",
   "execution_count": 8,
   "id": "32d105df",
   "metadata": {},
   "outputs": [],
   "source": [
    "q.appendleft(10)\n",
    "q.appendleft(11)\n",
    "q.appendleft(12)\n",
    "q.appendleft(13)"
   ]
  },
  {
   "cell_type": "code",
   "execution_count": 9,
   "id": "b2f1217d",
   "metadata": {},
   "outputs": [
    {
     "data": {
      "text/plain": [
       "10"
      ]
     },
     "execution_count": 9,
     "metadata": {},
     "output_type": "execute_result"
    }
   ],
   "source": [
    "q.pop()"
   ]
  },
  {
   "cell_type": "code",
   "execution_count": 11,
   "id": "07de6f49",
   "metadata": {},
   "outputs": [],
   "source": [
    "class Queue:\n",
    "    def __init__(self):\n",
    "        self.buffer = deque()\n",
    "        \n",
    "    def enqueue(self, val):\n",
    "        self.buffer.appendleft(val)\n",
    "    \n",
    "    def dequeue(self):\n",
    "        return self.buffer.pop()\n",
    "    \n",
    "    def is_empty(self):\n",
    "        return len(self.buffer) == 0\n",
    "    \n",
    "    def size(self):\n",
    "        return len(self.buffer)"
   ]
  },
  {
   "cell_type": "code",
   "execution_count": 13,
   "id": "f70aabb5",
   "metadata": {},
   "outputs": [],
   "source": [
    "# above class will responsible for the queue implementation and the function related to the queue implementation\n",
    "d = Queue()"
   ]
  },
  {
   "cell_type": "code",
   "execution_count": 15,
   "id": "ddb52d6b",
   "metadata": {},
   "outputs": [],
   "source": [
    "d.enqueue(10)\n",
    "d.enqueue(12)\n",
    "d.enqueue(13)\n",
    "d.enqueue(14)"
   ]
  },
  {
   "cell_type": "code",
   "execution_count": 18,
   "id": "727a4dfa",
   "metadata": {},
   "outputs": [
    {
     "data": {
      "text/plain": [
       "5"
      ]
     },
     "execution_count": 18,
     "metadata": {},
     "output_type": "execute_result"
    }
   ],
   "source": [
    "d.size()"
   ]
  },
  {
   "cell_type": "code",
   "execution_count": 19,
   "id": "c25a785d",
   "metadata": {},
   "outputs": [
    {
     "data": {
      "text/plain": [
       "False"
      ]
     },
     "execution_count": 19,
     "metadata": {},
     "output_type": "execute_result"
    }
   ],
   "source": [
    "d.is_empty()"
   ]
  },
  {
   "cell_type": "code",
   "execution_count": 20,
   "id": "4614b4c1",
   "metadata": {},
   "outputs": [],
   "source": [
    "d.dequeue()"
   ]
  },
  {
   "cell_type": "code",
   "execution_count": 21,
   "id": "9f4e5724",
   "metadata": {},
   "outputs": [
    {
     "data": {
      "text/plain": [
       "<__main__.Queue at 0x20f7ff533d0>"
      ]
     },
     "execution_count": 21,
     "metadata": {},
     "output_type": "execute_result"
    }
   ],
   "source": []
  },
  {
   "cell_type": "code",
   "execution_count": null,
   "id": "0c8ef45b",
   "metadata": {},
   "outputs": [],
   "source": []
  }
 ],
 "metadata": {
  "kernelspec": {
   "display_name": "Python 3 (ipykernel)",
   "language": "python",
   "name": "python3"
  },
  "language_info": {
   "codemirror_mode": {
    "name": "ipython",
    "version": 3
   },
   "file_extension": ".py",
   "mimetype": "text/x-python",
   "name": "python",
   "nbconvert_exporter": "python",
   "pygments_lexer": "ipython3",
   "version": "3.8.11"
  }
 },
 "nbformat": 4,
 "nbformat_minor": 5
}
