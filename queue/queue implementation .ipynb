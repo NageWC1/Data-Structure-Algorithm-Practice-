{
 "cells": [
  {
   "cell_type": "code",
   "execution_count": 2,
   "id": "bca7c40a",
   "metadata": {},
   "outputs": [],
   "source": [
    "wmt_stock_proce_queue = []"
   ]
  },
  {
   "cell_type": "code",
   "execution_count": 3,
   "id": "52d139f1",
   "metadata": {},
   "outputs": [],
   "source": [
    "wmt_stock_proce_queue.insert(0,130)\n",
    "wmt_stock_proce_queue.insert(0,120)\n",
    "wmt_stock_proce_queue.insert(0,140)\n",
    "wmt_stock_proce_queue.insert(0,150)"
   ]
  },
  {
   "cell_type": "code",
   "execution_count": 4,
   "id": "b5d8a59c",
   "metadata": {},
   "outputs": [
    {
     "data": {
      "text/plain": [
       "130"
      ]
     },
     "execution_count": 4,
     "metadata": {},
     "output_type": "execute_result"
    }
   ],
   "source": [
    "wmt_stock_proce_queue.pop()"
   ]
  },
  {
   "cell_type": "code",
   "execution_count": 5,
   "id": "039cd449",
   "metadata": {},
   "outputs": [],
   "source": [
    "# the normal list in the python will be work finely for the queue but when the allocated space finished the\n",
    "# problem will be after excessive operation afterwards "
   ]
  },
  {
   "cell_type": "code",
   "execution_count": 6,
   "id": "bd46066e",
   "metadata": {},
   "outputs": [],
   "source": [
    "from collections import deque\n",
    "q = deque()"
   ]
  },
  {
   "cell_type": "code",
   "execution_count": 8,
   "id": "466e7751",
   "metadata": {},
   "outputs": [],
   "source": [
    "q.appendleft(10)\n",
    "q.appendleft(11)\n",
    "q.appendleft(12)\n",
    "q.appendleft(13)"
   ]
  },
  {
   "cell_type": "code",
   "execution_count": 9,
   "id": "970e5e72",
   "metadata": {},
   "outputs": [
    {
     "data": {
      "text/plain": [
       "10"
      ]
     },
     "execution_count": 9,
     "metadata": {},
     "output_type": "execute_result"
    }
   ],
   "source": [
    "q.pop()"
   ]
  },
  {
   "cell_type": "code",
   "execution_count": 23,
   "id": "34029dd8",
   "metadata": {},
   "outputs": [],
   "source": [
    "class Queue:\n",
    "    def __init__(self):\n",
    "        self.buffer = deque()\n",
    "        \n",
    "    def enqueue(self, val):\n",
    "        self.buffer.appendleft(val)\n",
    "    \n",
    "    def dequeue(self):\n",
    "        return self.buffer.pop()\n",
    "    \n",
    "    def is_empty(self):\n",
    "        return len(self.buffer) == 0\n",
    "    \n",
    "    def size(self):\n",
    "        return len(self.buffer)"
   ]
  },
  {
   "cell_type": "code",
   "execution_count": 24,
   "id": "881e8abb",
   "metadata": {},
   "outputs": [],
   "source": [
    "# above class will responsible for the queue implementation and the function related to the queue implementation\n",
    "d = Queue()"
   ]
  },
  {
   "cell_type": "code",
   "execution_count": 25,
   "id": "48723326",
   "metadata": {},
   "outputs": [],
   "source": [
    "d.enqueue(10)\n",
    "d.enqueue(12)\n",
    "d.enqueue(13)\n",
    "d.enqueue(14)"
   ]
  },
  {
   "cell_type": "code",
   "execution_count": 26,
   "id": "2b042a0a",
   "metadata": {},
   "outputs": [
    {
     "data": {
      "text/plain": [
       "4"
      ]
     },
     "execution_count": 26,
     "metadata": {},
     "output_type": "execute_result"
    }
   ],
   "source": [
    "d.size()"
   ]
  },
  {
   "cell_type": "code",
   "execution_count": 27,
   "id": "69ec225b",
   "metadata": {},
   "outputs": [
    {
     "data": {
      "text/plain": [
       "False"
      ]
     },
     "execution_count": 27,
     "metadata": {},
     "output_type": "execute_result"
    }
   ],
   "source": [
    "d.is_empty()"
   ]
  },
  {
   "cell_type": "code",
   "execution_count": 28,
   "id": "06e29391",
   "metadata": {},
   "outputs": [
    {
     "data": {
      "text/plain": [
       "10"
      ]
     },
     "execution_count": 28,
     "metadata": {},
     "output_type": "execute_result"
    }
   ],
   "source": [
    "d.dequeue()"
   ]
  },
  {
   "cell_type": "code",
   "execution_count": 31,
   "id": "9184cfeb",
   "metadata": {},
   "outputs": [
    {
     "data": {
      "text/plain": [
       "deque([14, 13, 12])"
      ]
     },
     "execution_count": 31,
     "metadata": {},
     "output_type": "execute_result"
    }
   ],
   "source": [
    "d.buffer"
   ]
  },
  {
   "cell_type": "code",
   "execution_count": 29,
   "id": "a1455170",
   "metadata": {},
   "outputs": [],
   "source": [
    "#  the implementations were done \n",
    "# check on the bigocheatsheet.com"
   ]
  }
 ],
 "metadata": {
  "kernelspec": {
   "display_name": "Python 3 (ipykernel)",
   "language": "python",
   "name": "python3"
  },
  "language_info": {
   "codemirror_mode": {
    "name": "ipython",
    "version": 3
   },
   "file_extension": ".py",
   "mimetype": "text/x-python",
   "name": "python",
   "nbconvert_exporter": "python",
   "pygments_lexer": "ipython3",
   "version": "3.8.11"
  }
 },
 "nbformat": 4,
 "nbformat_minor": 5
}
